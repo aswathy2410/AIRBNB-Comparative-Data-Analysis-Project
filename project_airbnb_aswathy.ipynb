{
 "cells": [
  {
   "cell_type": "markdown",
   "id": "35610090",
   "metadata": {},
   "source": [
    "# AIRBNB Dashboards Project \n",
    "\n",
    "### - submitted by Aswathy Gopalakrishnan\n",
    "\n",
    "This jupyter notebook contains the tasks performed for data preprocessing steps."
   ]
  },
  {
   "cell_type": "code",
   "execution_count": 68,
   "id": "522772f1",
   "metadata": {},
   "outputs": [],
   "source": [
    "import pandas as pd\n",
    "import numpy as np\n",
    "from datetime import datetime"
   ]
  },
  {
   "cell_type": "markdown",
   "id": "d90868d3",
   "metadata": {},
   "source": [
    "The locations chosen are Stockholm and Seattle. The listings.csv for the locations has been downloaded from the provided link. Now, the data is combined and additional column named 'city' is added for filter purpose during the anlysis"
   ]
  },
  {
   "cell_type": "code",
   "execution_count": 70,
   "id": "63a14e76",
   "metadata": {},
   "outputs": [],
   "source": [
    "df_stockholm = pd.read_csv('listings_stockholm.csv')\n",
    "df_stockholm['city'] = 'Stockholm'\n",
    "\n",
    "# Load Seattle data\n",
    "df_seattle = pd.read_csv('listings_seattle.csv')\n",
    "df_seattle['city'] = 'Seattle'\n",
    "\n",
    "# Combine both datasets\n",
    "df_combined = pd.concat([df_stockholm, df_seattle], ignore_index=True)\n",
    "df = df_combined"
   ]
  },
  {
   "cell_type": "code",
   "execution_count": 71,
   "id": "0115f267",
   "metadata": {},
   "outputs": [
    {
     "name": "stdout",
     "output_type": "stream",
     "text": [
      "<class 'pandas.core.frame.DataFrame'>\n",
      "RangeIndex: 11904 entries, 0 to 11903\n",
      "Data columns (total 80 columns):\n",
      " #   Column                                        Non-Null Count  Dtype  \n",
      "---  ------                                        --------------  -----  \n",
      " 0   id                                            11904 non-null  int64  \n",
      " 1   listing_url                                   11904 non-null  object \n",
      " 2   scrape_id                                     11904 non-null  int64  \n",
      " 3   last_scraped                                  11904 non-null  object \n",
      " 4   source                                        11904 non-null  object \n",
      " 5   name                                          11904 non-null  object \n",
      " 6   description                                   11562 non-null  object \n",
      " 7   neighborhood_overview                         6131 non-null   object \n",
      " 8   picture_url                                   11904 non-null  object \n",
      " 9   host_id                                       11904 non-null  int64  \n",
      " 10  host_url                                      11904 non-null  object \n",
      " 11  host_name                                     11887 non-null  object \n",
      " 12  host_since                                    11887 non-null  object \n",
      " 13  host_location                                 9970 non-null   object \n",
      " 14  host_about                                    6959 non-null   object \n",
      " 15  host_response_time                            9132 non-null   object \n",
      " 16  host_response_rate                            9132 non-null   object \n",
      " 17  host_acceptance_rate                          10298 non-null  object \n",
      " 18  host_is_superhost                             11679 non-null  object \n",
      " 19  host_thumbnail_url                            11887 non-null  object \n",
      " 20  host_picture_url                              11887 non-null  object \n",
      " 21  host_neighbourhood                            7893 non-null   object \n",
      " 22  host_listings_count                           11887 non-null  float64\n",
      " 23  host_total_listings_count                     11887 non-null  float64\n",
      " 24  host_verifications                            11887 non-null  object \n",
      " 25  host_has_profile_pic                          11887 non-null  object \n",
      " 26  host_identity_verified                        11887 non-null  object \n",
      " 27  neighbourhood                                 6131 non-null   object \n",
      " 28  neighbourhood_cleansed                        11904 non-null  object \n",
      " 29  neighbourhood_group_cleansed                  6772 non-null   object \n",
      " 30  latitude                                      11904 non-null  float64\n",
      " 31  longitude                                     11904 non-null  float64\n",
      " 32  property_type                                 11904 non-null  object \n",
      " 33  room_type                                     11904 non-null  object \n",
      " 34  accommodates                                  11904 non-null  int64  \n",
      " 35  bathrooms                                     9463 non-null   float64\n",
      " 36  bathrooms_text                                11893 non-null  object \n",
      " 37  bedrooms                                      11507 non-null  float64\n",
      " 38  beds                                          9454 non-null   float64\n",
      " 39  amenities                                     11904 non-null  object \n",
      " 40  price                                         9444 non-null   object \n",
      " 41  minimum_nights                                11904 non-null  int64  \n",
      " 42  maximum_nights                                11904 non-null  int64  \n",
      " 43  minimum_minimum_nights                        11900 non-null  float64\n",
      " 44  maximum_minimum_nights                        11900 non-null  float64\n",
      " 45  minimum_maximum_nights                        11900 non-null  float64\n",
      " 46  maximum_maximum_nights                        11900 non-null  float64\n",
      " 47  minimum_nights_avg_ntm                        11900 non-null  float64\n",
      " 48  maximum_nights_avg_ntm                        11900 non-null  float64\n",
      " 49  calendar_updated                              0 non-null      float64\n",
      " 50  has_availability                              11639 non-null  object \n",
      " 51  availability_30                               11904 non-null  int64  \n",
      " 52  availability_60                               11904 non-null  int64  \n",
      " 53  availability_90                               11904 non-null  int64  \n",
      " 54  availability_365                              11904 non-null  int64  \n",
      " 55  calendar_last_scraped                         11904 non-null  object \n",
      " 56  number_of_reviews                             11904 non-null  int64  \n",
      " 57  number_of_reviews_ltm                         11904 non-null  int64  \n",
      " 58  number_of_reviews_l30d                        11904 non-null  int64  \n",
      " 59  availability_eoy                              11904 non-null  int64  \n",
      " 60  number_of_reviews_ly                          11904 non-null  int64  \n",
      " 61  estimated_occupancy_l365d                     11904 non-null  int64  \n",
      " 62  estimated_revenue_l365d                       9444 non-null   float64\n",
      " 63  first_review                                  9922 non-null   object \n",
      " 64  last_review                                   9922 non-null   object \n",
      " 65  review_scores_rating                          9922 non-null   float64\n",
      " 66  review_scores_accuracy                        9922 non-null   float64\n",
      " 67  review_scores_cleanliness                     9922 non-null   float64\n",
      " 68  review_scores_checkin                         9921 non-null   float64\n",
      " 69  review_scores_communication                   9921 non-null   float64\n",
      " 70  review_scores_location                        9921 non-null   float64\n",
      " 71  review_scores_value                           9921 non-null   float64\n",
      " 72  license                                       5548 non-null   object \n",
      " 73  instant_bookable                              11904 non-null  object \n",
      " 74  calculated_host_listings_count                11904 non-null  int64  \n",
      " 75  calculated_host_listings_count_entire_homes   11904 non-null  int64  \n",
      " 76  calculated_host_listings_count_private_rooms  11904 non-null  int64  \n",
      " 77  calculated_host_listings_count_shared_rooms   11904 non-null  int64  \n",
      " 78  reviews_per_month                             9922 non-null   float64\n",
      " 79  city                                          11904 non-null  object \n",
      "dtypes: float64(23), int64(20), object(37)\n",
      "memory usage: 7.3+ MB\n"
     ]
    }
   ],
   "source": [
    "# Preview first few rows\n",
    "df.head()\n",
    "\n",
    "# Get info on data types and missing values\n",
    "df.info()"
   ]
  },
  {
   "cell_type": "markdown",
   "id": "4d7a7c8b",
   "metadata": {},
   "source": [
    "After careful analysis, the columns which has to be kept for the analysis has been found. This was decided mainly based on the analysis tasks provided."
   ]
  },
  {
   "cell_type": "code",
   "execution_count": 72,
   "id": "0e66e6d7",
   "metadata": {},
   "outputs": [],
   "source": [
    "columns_to_keep = [\n",
    "    'city', 'id','name','description', 'host_id', 'host_name', 'host_since', \n",
    "    'host_response_time','host_response_rate','host_acceptance_rate','host_is_superhost',\n",
    "    'host_listings_count', 'host_total_listings_count', \n",
    "    'host_identity_verified','neighbourhood_cleansed', \n",
    "    'latitude', 'longitude', 'property_type', 'room_type',\n",
    "    'accommodates', 'bathrooms_text', 'bedrooms', 'beds', 'amenities', 'price', 'minimum_nights',\n",
    "    'maximum_nights', 'availability_30', 'availability_60', 'availability_90', 'availability_365',\n",
    "    'number_of_reviews','number_of_reviews_ltm', 'number_of_reviews_l30d',\n",
    "    'review_scores_rating','review_scores_accuracy','review_scores_cleanliness',\n",
    "    'review_scores_checkin', 'review_scores_communication','review_scores_location',\n",
    "    'review_scores_value', 'instant_bookable']\n",
    "\n",
    "df = df[columns_to_keep]"
   ]
  },
  {
   "cell_type": "markdown",
   "id": "b33ff473",
   "metadata": {},
   "source": [
    "Now that we have necessary features, the dataset needs to cleaned and preprocessed before doing the analysis. "
   ]
  },
  {
   "cell_type": "code",
   "execution_count": 73,
   "id": "8e389712",
   "metadata": {},
   "outputs": [
    {
     "name": "stdout",
     "output_type": "stream",
     "text": [
      "Number of duplicate rows dropped: 0\n"
     ]
    }
   ],
   "source": [
    "# Check for duplicate rows\n",
    "\n",
    "initial_row_count = len(df)\n",
    "df_unique = df.drop_duplicates()\n",
    "rows_dropped = initial_row_count - len(df_unique)\n",
    "print(f\"Number of duplicate rows dropped: {rows_dropped}\")\n",
    "df = df_unique"
   ]
  },
  {
   "cell_type": "code",
   "execution_count": 74,
   "id": "10f16740",
   "metadata": {},
   "outputs": [
    {
     "name": "stdout",
     "output_type": "stream",
     "text": [
      "city                              0\n",
      "id                                0\n",
      "name                              0\n",
      "description                     342\n",
      "host_id                           0\n",
      "host_name                        17\n",
      "host_since                       17\n",
      "host_response_time             2772\n",
      "host_response_rate             2772\n",
      "host_acceptance_rate           1606\n",
      "host_is_superhost               225\n",
      "host_listings_count              17\n",
      "host_total_listings_count        17\n",
      "host_identity_verified           17\n",
      "neighbourhood_cleansed            0\n",
      "latitude                          0\n",
      "longitude                         0\n",
      "property_type                     0\n",
      "room_type                         0\n",
      "accommodates                      0\n",
      "bathrooms_text                   11\n",
      "bedrooms                        397\n",
      "beds                           2450\n",
      "amenities                         0\n",
      "price                          2460\n",
      "minimum_nights                    0\n",
      "maximum_nights                    0\n",
      "availability_30                   0\n",
      "availability_60                   0\n",
      "availability_90                   0\n",
      "availability_365                  0\n",
      "number_of_reviews                 0\n",
      "number_of_reviews_ltm             0\n",
      "number_of_reviews_l30d            0\n",
      "review_scores_rating           1982\n",
      "review_scores_accuracy         1982\n",
      "review_scores_cleanliness      1982\n",
      "review_scores_checkin          1983\n",
      "review_scores_communication    1983\n",
      "review_scores_location         1983\n",
      "review_scores_value            1983\n",
      "instant_bookable                  0\n",
      "dtype: int64\n"
     ]
    }
   ],
   "source": [
    "# Finding the missing values in each feature\n",
    "\n",
    "missing_counts = df.isnull().sum()\n",
    "print(missing_counts)"
   ]
  },
  {
   "cell_type": "markdown",
   "id": "1ae14aee",
   "metadata": {},
   "source": [
    "For categorical features, if the value is missing, it's updated as not provided or mentioned. For numerical values, the missing values are filled based on the feature relevancy, and the rest of the values in the column. "
   ]
  },
  {
   "cell_type": "code",
   "execution_count": 75,
   "id": "a3e769ff",
   "metadata": {},
   "outputs": [
    {
     "name": "stderr",
     "output_type": "stream",
     "text": [
      "C:\\Users\\USER\\AppData\\Local\\Temp\\ipykernel_134252\\361498320.py:1: FutureWarning: A value is trying to be set on a copy of a DataFrame or Series through chained assignment using an inplace method.\n",
      "The behavior will change in pandas 3.0. This inplace method will never work because the intermediate object on which we are setting values always behaves as a copy.\n",
      "\n",
      "For example, when doing 'df[col].method(value, inplace=True)', try using 'df.method({col: value}, inplace=True)' or df[col] = df[col].method(value) instead, to perform the operation inplace on the original object.\n",
      "\n",
      "\n",
      "  df['description'].fillna('not provided', inplace=True)\n",
      "C:\\Users\\USER\\AppData\\Local\\Temp\\ipykernel_134252\\361498320.py:3: FutureWarning: A value is trying to be set on a copy of a DataFrame or Series through chained assignment using an inplace method.\n",
      "The behavior will change in pandas 3.0. This inplace method will never work because the intermediate object on which we are setting values always behaves as a copy.\n",
      "\n",
      "For example, when doing 'df[col].method(value, inplace=True)', try using 'df.method({col: value}, inplace=True)' or df[col] = df[col].method(value) instead, to perform the operation inplace on the original object.\n",
      "\n",
      "\n",
      "  df['host_name'].fillna('not provided', inplace=True)\n",
      "C:\\Users\\USER\\AppData\\Local\\Temp\\ipykernel_134252\\361498320.py:3: SettingWithCopyWarning: \n",
      "A value is trying to be set on a copy of a slice from a DataFrame\n",
      "\n",
      "See the caveats in the documentation: https://pandas.pydata.org/pandas-docs/stable/user_guide/indexing.html#returning-a-view-versus-a-copy\n",
      "  df['host_name'].fillna('not provided', inplace=True)\n",
      "C:\\Users\\USER\\AppData\\Local\\Temp\\ipykernel_134252\\361498320.py:4: FutureWarning: A value is trying to be set on a copy of a DataFrame or Series through chained assignment using an inplace method.\n",
      "The behavior will change in pandas 3.0. This inplace method will never work because the intermediate object on which we are setting values always behaves as a copy.\n",
      "\n",
      "For example, when doing 'df[col].method(value, inplace=True)', try using 'df.method({col: value}, inplace=True)' or df[col] = df[col].method(value) instead, to perform the operation inplace on the original object.\n",
      "\n",
      "\n",
      "  df['host_response_time'].fillna('not mentioned', inplace=True)\n",
      "C:\\Users\\USER\\AppData\\Local\\Temp\\ipykernel_134252\\361498320.py:4: SettingWithCopyWarning: \n",
      "A value is trying to be set on a copy of a slice from a DataFrame\n",
      "\n",
      "See the caveats in the documentation: https://pandas.pydata.org/pandas-docs/stable/user_guide/indexing.html#returning-a-view-versus-a-copy\n",
      "  df['host_response_time'].fillna('not mentioned', inplace=True)\n",
      "C:\\Users\\USER\\AppData\\Local\\Temp\\ipykernel_134252\\361498320.py:5: FutureWarning: A value is trying to be set on a copy of a DataFrame or Series through chained assignment using an inplace method.\n",
      "The behavior will change in pandas 3.0. This inplace method will never work because the intermediate object on which we are setting values always behaves as a copy.\n",
      "\n",
      "For example, when doing 'df[col].method(value, inplace=True)', try using 'df.method({col: value}, inplace=True)' or df[col] = df[col].method(value) instead, to perform the operation inplace on the original object.\n",
      "\n",
      "\n",
      "  df['host_response_rate'].fillna('0%', inplace=True)\n",
      "C:\\Users\\USER\\AppData\\Local\\Temp\\ipykernel_134252\\361498320.py:5: SettingWithCopyWarning: \n",
      "A value is trying to be set on a copy of a slice from a DataFrame\n",
      "\n",
      "See the caveats in the documentation: https://pandas.pydata.org/pandas-docs/stable/user_guide/indexing.html#returning-a-view-versus-a-copy\n",
      "  df['host_response_rate'].fillna('0%', inplace=True)\n",
      "C:\\Users\\USER\\AppData\\Local\\Temp\\ipykernel_134252\\361498320.py:6: FutureWarning: A value is trying to be set on a copy of a DataFrame or Series through chained assignment using an inplace method.\n",
      "The behavior will change in pandas 3.0. This inplace method will never work because the intermediate object on which we are setting values always behaves as a copy.\n",
      "\n",
      "For example, when doing 'df[col].method(value, inplace=True)', try using 'df.method({col: value}, inplace=True)' or df[col] = df[col].method(value) instead, to perform the operation inplace on the original object.\n",
      "\n",
      "\n",
      "  df['host_acceptance_rate'].fillna('0%', inplace=True)\n",
      "C:\\Users\\USER\\AppData\\Local\\Temp\\ipykernel_134252\\361498320.py:6: SettingWithCopyWarning: \n",
      "A value is trying to be set on a copy of a slice from a DataFrame\n",
      "\n",
      "See the caveats in the documentation: https://pandas.pydata.org/pandas-docs/stable/user_guide/indexing.html#returning-a-view-versus-a-copy\n",
      "  df['host_acceptance_rate'].fillna('0%', inplace=True)\n",
      "C:\\Users\\USER\\AppData\\Local\\Temp\\ipykernel_134252\\361498320.py:7: FutureWarning: A value is trying to be set on a copy of a DataFrame or Series through chained assignment using an inplace method.\n",
      "The behavior will change in pandas 3.0. This inplace method will never work because the intermediate object on which we are setting values always behaves as a copy.\n",
      "\n",
      "For example, when doing 'df[col].method(value, inplace=True)', try using 'df.method({col: value}, inplace=True)' or df[col] = df[col].method(value) instead, to perform the operation inplace on the original object.\n",
      "\n",
      "\n",
      "  df['host_is_superhost'].fillna('f', inplace=True)\n",
      "C:\\Users\\USER\\AppData\\Local\\Temp\\ipykernel_134252\\361498320.py:7: SettingWithCopyWarning: \n",
      "A value is trying to be set on a copy of a slice from a DataFrame\n",
      "\n",
      "See the caveats in the documentation: https://pandas.pydata.org/pandas-docs/stable/user_guide/indexing.html#returning-a-view-versus-a-copy\n",
      "  df['host_is_superhost'].fillna('f', inplace=True)\n",
      "C:\\Users\\USER\\AppData\\Local\\Temp\\ipykernel_134252\\361498320.py:8: FutureWarning: A value is trying to be set on a copy of a DataFrame or Series through chained assignment using an inplace method.\n",
      "The behavior will change in pandas 3.0. This inplace method will never work because the intermediate object on which we are setting values always behaves as a copy.\n",
      "\n",
      "For example, when doing 'df[col].method(value, inplace=True)', try using 'df.method({col: value}, inplace=True)' or df[col] = df[col].method(value) instead, to perform the operation inplace on the original object.\n",
      "\n",
      "\n",
      "  df['bathrooms_text'].fillna('1 bath', inplace=True)\n",
      "C:\\Users\\USER\\AppData\\Local\\Temp\\ipykernel_134252\\361498320.py:8: SettingWithCopyWarning: \n",
      "A value is trying to be set on a copy of a slice from a DataFrame\n",
      "\n",
      "See the caveats in the documentation: https://pandas.pydata.org/pandas-docs/stable/user_guide/indexing.html#returning-a-view-versus-a-copy\n",
      "  df['bathrooms_text'].fillna('1 bath', inplace=True)\n",
      "C:\\Users\\USER\\AppData\\Local\\Temp\\ipykernel_134252\\361498320.py:9: FutureWarning: A value is trying to be set on a copy of a DataFrame or Series through chained assignment using an inplace method.\n",
      "The behavior will change in pandas 3.0. This inplace method will never work because the intermediate object on which we are setting values always behaves as a copy.\n",
      "\n",
      "For example, when doing 'df[col].method(value, inplace=True)', try using 'df.method({col: value}, inplace=True)' or df[col] = df[col].method(value) instead, to perform the operation inplace on the original object.\n",
      "\n",
      "\n",
      "  df['bedrooms'].fillna(0, inplace=True)\n",
      "C:\\Users\\USER\\AppData\\Local\\Temp\\ipykernel_134252\\361498320.py:9: SettingWithCopyWarning: \n",
      "A value is trying to be set on a copy of a slice from a DataFrame\n",
      "\n",
      "See the caveats in the documentation: https://pandas.pydata.org/pandas-docs/stable/user_guide/indexing.html#returning-a-view-versus-a-copy\n",
      "  df['bedrooms'].fillna(0, inplace=True)\n",
      "C:\\Users\\USER\\AppData\\Local\\Temp\\ipykernel_134252\\361498320.py:10: FutureWarning: A value is trying to be set on a copy of a DataFrame or Series through chained assignment using an inplace method.\n",
      "The behavior will change in pandas 3.0. This inplace method will never work because the intermediate object on which we are setting values always behaves as a copy.\n",
      "\n",
      "For example, when doing 'df[col].method(value, inplace=True)', try using 'df.method({col: value}, inplace=True)' or df[col] = df[col].method(value) instead, to perform the operation inplace on the original object.\n",
      "\n",
      "\n",
      "  df['beds'].fillna(1, inplace=True)\n",
      "C:\\Users\\USER\\AppData\\Local\\Temp\\ipykernel_134252\\361498320.py:10: SettingWithCopyWarning: \n",
      "A value is trying to be set on a copy of a slice from a DataFrame\n",
      "\n",
      "See the caveats in the documentation: https://pandas.pydata.org/pandas-docs/stable/user_guide/indexing.html#returning-a-view-versus-a-copy\n",
      "  df['beds'].fillna(1, inplace=True)\n"
     ]
    }
   ],
   "source": [
    "df['description'].fillna('not provided', inplace=True)\n",
    "df = df.dropna(subset=['host_since'])\n",
    "df['host_name'].fillna('not provided', inplace=True)\n",
    "df['host_response_time'].fillna('not mentioned', inplace=True)\n",
    "df['host_response_rate'].fillna('0%', inplace=True)\n",
    "df['host_acceptance_rate'].fillna('0%', inplace=True)\n",
    "df['host_is_superhost'].fillna('f', inplace=True)\n",
    "df['bathrooms_text'].fillna('1 bath', inplace=True)\n",
    "df['bedrooms'].fillna(0, inplace=True)\n",
    "df['beds'].fillna(1, inplace=True)"
   ]
  },
  {
   "cell_type": "code",
   "execution_count": 76,
   "id": "e9df83ac",
   "metadata": {},
   "outputs": [
    {
     "name": "stderr",
     "output_type": "stream",
     "text": [
      "C:\\Users\\USER\\AppData\\Local\\Temp\\ipykernel_134252\\699402459.py:5: FutureWarning: A value is trying to be set on a copy of a DataFrame or Series through chained assignment using an inplace method.\n",
      "The behavior will change in pandas 3.0. This inplace method will never work because the intermediate object on which we are setting values always behaves as a copy.\n",
      "\n",
      "For example, when doing 'df[col].method(value, inplace=True)', try using 'df.method({col: value}, inplace=True)' or df[col] = df[col].method(value) instead, to perform the operation inplace on the original object.\n",
      "\n",
      "\n",
      "  df[col].fillna(median_value, inplace=True)\n",
      "C:\\Users\\USER\\AppData\\Local\\Temp\\ipykernel_134252\\699402459.py:5: SettingWithCopyWarning: \n",
      "A value is trying to be set on a copy of a slice from a DataFrame\n",
      "\n",
      "See the caveats in the documentation: https://pandas.pydata.org/pandas-docs/stable/user_guide/indexing.html#returning-a-view-versus-a-copy\n",
      "  df[col].fillna(median_value, inplace=True)\n"
     ]
    }
   ],
   "source": [
    "for col in ['review_scores_rating', 'review_scores_accuracy', 'review_scores_cleanliness', \n",
    "            'review_scores_checkin', 'review_scores_communication', 'review_scores_location', \n",
    "            'review_scores_value']:\n",
    "    median_value = df[col].median()\n",
    "    df[col].fillna(median_value, inplace=True)"
   ]
  },
  {
   "cell_type": "markdown",
   "id": "f91b3f94",
   "metadata": {},
   "source": [
    "For price, the prices are grouped based on property type, room type, and neighbourhood and filled accordingly."
   ]
  },
  {
   "cell_type": "code",
   "execution_count": 77,
   "id": "89848e08",
   "metadata": {},
   "outputs": [
    {
     "name": "stderr",
     "output_type": "stream",
     "text": [
      "<>:2: SyntaxWarning: invalid escape sequence '\\$'\n",
      "<>:2: SyntaxWarning: invalid escape sequence '\\$'\n",
      "C:\\Users\\USER\\AppData\\Local\\Temp\\ipykernel_134252\\356863613.py:2: SyntaxWarning: invalid escape sequence '\\$'\n",
      "  df['price'] = df['price'].replace('[\\$,]', '', regex=True).astype(float)\n",
      "C:\\Users\\USER\\AppData\\Local\\Temp\\ipykernel_134252\\356863613.py:2: SettingWithCopyWarning: \n",
      "A value is trying to be set on a copy of a slice from a DataFrame.\n",
      "Try using .loc[row_indexer,col_indexer] = value instead\n",
      "\n",
      "See the caveats in the documentation: https://pandas.pydata.org/pandas-docs/stable/user_guide/indexing.html#returning-a-view-versus-a-copy\n",
      "  df['price'] = df['price'].replace('[\\$,]', '', regex=True).astype(float)\n",
      "C:\\Users\\USER\\AppData\\Local\\Temp\\ipykernel_134252\\356863613.py:6: SettingWithCopyWarning: \n",
      "A value is trying to be set on a copy of a slice from a DataFrame.\n",
      "Try using .loc[row_indexer,col_indexer] = value instead\n",
      "\n",
      "See the caveats in the documentation: https://pandas.pydata.org/pandas-docs/stable/user_guide/indexing.html#returning-a-view-versus-a-copy\n",
      "  df['price_median'] = df.groupby(grouping_features)['price'].transform('median')\n",
      "C:\\Users\\USER\\AppData\\Local\\Temp\\ipykernel_134252\\356863613.py:9: SettingWithCopyWarning: \n",
      "A value is trying to be set on a copy of a slice from a DataFrame.\n",
      "Try using .loc[row_indexer,col_indexer] = value instead\n",
      "\n",
      "See the caveats in the documentation: https://pandas.pydata.org/pandas-docs/stable/user_guide/indexing.html#returning-a-view-versus-a-copy\n",
      "  df['price'] = df['price'].fillna(df['price_median'])\n",
      "C:\\Users\\USER\\AppData\\Local\\Temp\\ipykernel_134252\\356863613.py:12: SettingWithCopyWarning: \n",
      "A value is trying to be set on a copy of a slice from a DataFrame\n",
      "\n",
      "See the caveats in the documentation: https://pandas.pydata.org/pandas-docs/stable/user_guide/indexing.html#returning-a-view-versus-a-copy\n",
      "  df.drop(columns=['price_median'], inplace=True)\n",
      "C:\\Users\\USER\\AppData\\Local\\Temp\\ipykernel_134252\\356863613.py:14: SettingWithCopyWarning: \n",
      "A value is trying to be set on a copy of a slice from a DataFrame\n",
      "\n",
      "See the caveats in the documentation: https://pandas.pydata.org/pandas-docs/stable/user_guide/indexing.html#returning-a-view-versus-a-copy\n",
      "  df.dropna(subset=['price'], inplace=True)\n"
     ]
    }
   ],
   "source": [
    "# Remove dollar sign and commas, convert price to float\n",
    "df['price'] = df['price'].replace('[\\$,]', '', regex=True).astype(float)\n",
    "\n",
    "# Calculate group median and store in a new column\n",
    "grouping_features = ['property_type', 'room_type', 'neighbourhood_cleansed']\n",
    "df['price_median'] = df.groupby(grouping_features)['price'].transform('median')\n",
    "\n",
    "# Replace only NaN prices with their corresponding group median\n",
    "df['price'] = df['price'].fillna(df['price_median'])\n",
    "\n",
    "# Optional: Drop the 'price_median' column if no longer needed\n",
    "df.drop(columns=['price_median'], inplace=True)\n",
    "\n",
    "df.dropna(subset=['price'], inplace=True)"
   ]
  },
  {
   "cell_type": "code",
   "execution_count": 78,
   "id": "7418a087",
   "metadata": {},
   "outputs": [
    {
     "name": "stdout",
     "output_type": "stream",
     "text": [
      "city                           0\n",
      "id                             0\n",
      "name                           0\n",
      "description                    0\n",
      "host_id                        0\n",
      "host_name                      0\n",
      "host_since                     0\n",
      "host_response_time             0\n",
      "host_response_rate             0\n",
      "host_acceptance_rate           0\n",
      "host_is_superhost              0\n",
      "host_listings_count            0\n",
      "host_total_listings_count      0\n",
      "host_identity_verified         0\n",
      "neighbourhood_cleansed         0\n",
      "latitude                       0\n",
      "longitude                      0\n",
      "property_type                  0\n",
      "room_type                      0\n",
      "accommodates                   0\n",
      "bathrooms_text                 0\n",
      "bedrooms                       0\n",
      "beds                           0\n",
      "amenities                      0\n",
      "price                          0\n",
      "minimum_nights                 0\n",
      "maximum_nights                 0\n",
      "availability_30                0\n",
      "availability_60                0\n",
      "availability_90                0\n",
      "availability_365               0\n",
      "number_of_reviews              0\n",
      "number_of_reviews_ltm          0\n",
      "number_of_reviews_l30d         0\n",
      "review_scores_rating           0\n",
      "review_scores_accuracy         0\n",
      "review_scores_cleanliness      0\n",
      "review_scores_checkin          0\n",
      "review_scores_communication    0\n",
      "review_scores_location         0\n",
      "review_scores_value            0\n",
      "instant_bookable               0\n",
      "dtype: int64\n"
     ]
    }
   ],
   "source": [
    "missing_counts = df.isnull().sum()\n",
    "print(missing_counts)"
   ]
  },
  {
   "cell_type": "markdown",
   "id": "84975a6e",
   "metadata": {},
   "source": [
    "After cleaning, let's do some feature engineering and create some new features using the existing ones. This can help during the analysis and visualization tasks\n",
    "\n"
   ]
  },
  {
   "cell_type": "code",
   "execution_count": 79,
   "id": "3b15acef",
   "metadata": {},
   "outputs": [
    {
     "name": "stderr",
     "output_type": "stream",
     "text": [
      "C:\\Users\\USER\\AppData\\Local\\Temp\\ipykernel_134252\\3901786217.py:3: SettingWithCopyWarning: \n",
      "A value is trying to be set on a copy of a slice from a DataFrame.\n",
      "Try using .loc[row_indexer,col_indexer] = value instead\n",
      "\n",
      "See the caveats in the documentation: https://pandas.pydata.org/pandas-docs/stable/user_guide/indexing.html#returning-a-view-versus-a-copy\n",
      "  df['price_category'] = pd.qcut(df['price'], q=4, labels=['Low', 'Medium', 'High', 'Luxury'])\n"
     ]
    }
   ],
   "source": [
    "# Creating price categories\n",
    "\n",
    "df['price_category'] = pd.qcut(df['price'], q=4, labels=['Low', 'Medium', 'High', 'Luxury'])"
   ]
  },
  {
   "cell_type": "code",
   "execution_count": null,
   "id": "54cc0489",
   "metadata": {},
   "outputs": [
    {
     "name": "stderr",
     "output_type": "stream",
     "text": [
      "C:\\Users\\USER\\AppData\\Local\\Temp\\ipykernel_134252\\3575433092.py:5: SettingWithCopyWarning: \n",
      "A value is trying to be set on a copy of a slice from a DataFrame.\n",
      "Try using .loc[row_indexer,col_indexer] = value instead\n",
      "\n",
      "See the caveats in the documentation: https://pandas.pydata.org/pandas-docs/stable/user_guide/indexing.html#returning-a-view-versus-a-copy\n",
      "  df['host_since'] = pd.to_datetime(df['host_since'], errors='coerce')\n",
      "C:\\Users\\USER\\AppData\\Local\\Temp\\ipykernel_134252\\3575433092.py:8: SettingWithCopyWarning: \n",
      "A value is trying to be set on a copy of a slice from a DataFrame.\n",
      "Try using .loc[row_indexer,col_indexer] = value instead\n",
      "\n",
      "See the caveats in the documentation: https://pandas.pydata.org/pandas-docs/stable/user_guide/indexing.html#returning-a-view-versus-a-copy\n",
      "  df['host_since_years'] = (today - df['host_since']).dt.days / 365.25\n",
      "C:\\Users\\USER\\AppData\\Local\\Temp\\ipykernel_134252\\3575433092.py:11: SettingWithCopyWarning: \n",
      "A value is trying to be set on a copy of a slice from a DataFrame.\n",
      "Try using .loc[row_indexer,col_indexer] = value instead\n",
      "\n",
      "See the caveats in the documentation: https://pandas.pydata.org/pandas-docs/stable/user_guide/indexing.html#returning-a-view-versus-a-copy\n",
      "  df['host_since_years'] = df['host_since_years'].round(1)\n",
      "C:\\Users\\USER\\AppData\\Local\\Temp\\ipykernel_134252\\3575433092.py:16: SettingWithCopyWarning: \n",
      "A value is trying to be set on a copy of a slice from a DataFrame.\n",
      "Try using .loc[row_indexer,col_indexer] = value instead\n",
      "\n",
      "See the caveats in the documentation: https://pandas.pydata.org/pandas-docs/stable/user_guide/indexing.html#returning-a-view-versus-a-copy\n",
      "  df['review_score_category'] = pd.cut(df['review_scores_rating'], bins=bins, labels=labels, include_lowest=True)\n",
      "C:\\Users\\USER\\AppData\\Local\\Temp\\ipykernel_134252\\3575433092.py:21: SettingWithCopyWarning: \n",
      "A value is trying to be set on a copy of a slice from a DataFrame.\n",
      "Try using .loc[row_indexer,col_indexer] = value instead\n",
      "\n",
      "See the caveats in the documentation: https://pandas.pydata.org/pandas-docs/stable/user_guide/indexing.html#returning-a-view-versus-a-copy\n",
      "  df[col] = pd.to_numeric(df[col], errors='coerce')\n"
     ]
    }
   ],
   "source": [
    "\n",
    "# Set current date for calculations\n",
    "today = pd.to_datetime('2025-05-22')  \n",
    "\n",
    "# Create 'host_since_days' to measure host experience\n",
    "df['host_since'] = pd.to_datetime(df['host_since'], errors='coerce')\n",
    "\n",
    "# Calculate the number of years since host joined\n",
    "df['host_since_years'] = (today - df['host_since']).dt.days / 365.25\n",
    "\n",
    "# Round to 1 decimal place\n",
    "df['host_since_years'] = df['host_since_years'].round(1)\n",
    "\n",
    "#  Create 'review_score_category' to group review scores\n",
    "bins = [0, 3, 4, 5]\n",
    "labels = ['Low', 'Medium', 'High']\n",
    "df['review_score_category'] = pd.cut(df['review_scores_rating'], bins=bins, labels=labels, include_lowest=True)\n",
    "\n",
    "# Making sure the datatypes are right\n",
    "numeric_cols = ['latitude', 'longitude', 'bedrooms', 'beds', 'minimum_nights', 'accommodates']\n",
    "for col in numeric_cols:\n",
    "    df[col] = pd.to_numeric(df[col], errors='coerce')\n"
   ]
  },
  {
   "cell_type": "markdown",
   "id": "87c8bf7b",
   "metadata": {},
   "source": [
    "The stockholm prices, even though shown as dollars are actually in SEK. Hence, updating the prices based on the exchange rate here"
   ]
  },
  {
   "cell_type": "code",
   "execution_count": null,
   "id": "f77a4d40",
   "metadata": {},
   "outputs": [
    {
     "name": "stderr",
     "output_type": "stream",
     "text": [
      "C:\\Users\\USER\\AppData\\Local\\Temp\\ipykernel_134252\\4215022012.py:6: SettingWithCopyWarning: \n",
      "A value is trying to be set on a copy of a slice from a DataFrame.\n",
      "Try using .loc[row_indexer,col_indexer] = value instead\n",
      "\n",
      "See the caveats in the documentation: https://pandas.pydata.org/pandas-docs/stable/user_guide/indexing.html#returning-a-view-versus-a-copy\n",
      "  df['price_converted'] = df['price']* exchange_rate  # initialize with original prices\n",
      "C:\\Users\\USER\\AppData\\Local\\Temp\\ipykernel_134252\\4215022012.py:9: SettingWithCopyWarning: \n",
      "A value is trying to be set on a copy of a slice from a DataFrame\n",
      "\n",
      "See the caveats in the documentation: https://pandas.pydata.org/pandas-docs/stable/user_guide/indexing.html#returning-a-view-versus-a-copy\n",
      "  df.drop(columns=['price_converted'], inplace=True)\n"
     ]
    }
   ],
   "source": [
    "# Setting the exchange rate\n",
    "exchange_rate = 0.1 \n",
    "df['price_converted'] = df['price']* exchange_rate \n",
    "# Replacing the price values with the updated ones\n",
    "df.loc[df['city'] == 'Stockholm', 'price'] = df.loc[df['city'] == 'Stockholm', 'price_converted']\n",
    "df.drop(columns=['price_converted'], inplace=True)\n",
    "\n"
   ]
  },
  {
   "cell_type": "code",
   "execution_count": 87,
   "id": "142d6188",
   "metadata": {},
   "outputs": [],
   "source": [
    "# Save the preprocessed file inorder to use it for analysis and visualisation in Tableau\n",
    "df.to_csv('combined_listings_final.csv', index=False)"
   ]
  }
 ],
 "metadata": {
  "kernelspec": {
   "display_name": "ML_courses",
   "language": "python",
   "name": "python3"
  },
  "language_info": {
   "codemirror_mode": {
    "name": "ipython",
    "version": 3
   },
   "file_extension": ".py",
   "mimetype": "text/x-python",
   "name": "python",
   "nbconvert_exporter": "python",
   "pygments_lexer": "ipython3",
   "version": "3.13.2"
  }
 },
 "nbformat": 4,
 "nbformat_minor": 5
}
